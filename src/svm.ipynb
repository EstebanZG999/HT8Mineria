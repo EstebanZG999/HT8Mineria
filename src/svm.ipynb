{
 "cells": [
  {
   "cell_type": "markdown",
   "id": "e75357f3",
   "metadata": {},
   "source": [
    "# Máquinas Vectoriales de Soporte (SVM)"
   ]
  },
  {
   "cell_type": "markdown",
   "id": "2eeac367",
   "metadata": {},
   "source": [
    "### 2. Transformación de los datos para SVM"
   ]
  },
  {
   "cell_type": "code",
   "execution_count": 3,
   "id": "c5d2e008",
   "metadata": {},
   "outputs": [
    {
     "name": "stdout",
     "output_type": "stream",
     "text": [
      "(1460, 287)\n",
      "2    730\n",
      "0    615\n",
      "1    115\n",
      "Name: count, dtype: int64\n"
     ]
    }
   ],
   "source": [
    "# Importar librerías\n",
    "import pandas as pd\n",
    "from sklearn.model_selection import train_test_split\n",
    "from sklearn.preprocessing import StandardScaler, LabelEncoder\n",
    "\n",
    "# Cargar datos procesados\n",
    "df = pd.read_csv(\"../data/train_preprocessed.csv\")\n",
    "\n",
    "# Crear la variable categórica de precios\n",
    "def categorizar_precio(valor):\n",
    "    if valor < 150000:\n",
    "        return 'barata'\n",
    "    elif valor < 300000:\n",
    "        return 'media'\n",
    "    else:\n",
    "        return 'cara'\n",
    "\n",
    "df['PrecioCategoria'] = df['SalePrice'].apply(categorizar_precio)\n",
    "\n",
    "# Eliminar SalePrice para clasificación\n",
    "df_clasificacion = df.drop(columns=['SalePrice'])\n",
    "\n",
    "# Separar variables predictoras (X) y target (y)\n",
    "X = df_clasificacion.drop(columns=['PrecioCategoria'])\n",
    "y = df_clasificacion['PrecioCategoria']\n",
    "\n",
    "# Codificar variables categóricas si las hay\n",
    "X = pd.get_dummies(X)\n",
    "\n",
    "# Estandarizar características numéricas\n",
    "scaler = StandardScaler()\n",
    "X_scaled = scaler.fit_transform(X)\n",
    "\n",
    "# Codificar la variable objetivo (barata, media, cara → 0, 1, 2)\n",
    "label_encoder = LabelEncoder()\n",
    "y_encoded = label_encoder.fit_transform(y)\n",
    "\n",
    "# Dividir en entrenamiento y prueba \n",
    "X_train, X_test, y_train, y_test = train_test_split(X_scaled, y_encoded, test_size=0.2, random_state=42)\n",
    "\n",
    "\n",
    "print(X.shape)\n",
    "print(pd.Series(y_encoded).value_counts())\n"
   ]
  },
  {
   "cell_type": "markdown",
   "id": "47f3bf5d",
   "metadata": {},
   "source": [
    "### 3. Entrenar modelos SVM"
   ]
  },
  {
   "cell_type": "code",
   "execution_count": 4,
   "id": "b2ecce2b",
   "metadata": {},
   "outputs": [
    {
     "name": "stdout",
     "output_type": "stream",
     "text": [
      "SVM Lineal:\n",
      "               precision    recall  f1-score   support\n",
      "\n",
      "      barata       0.89      0.88      0.89       139\n",
      "        cara       0.69      0.75      0.72        24\n",
      "       media       0.83      0.82      0.82       129\n",
      "\n",
      "    accuracy                           0.85       292\n",
      "   macro avg       0.80      0.82      0.81       292\n",
      "weighted avg       0.85      0.85      0.85       292\n",
      "\n",
      "SVM RBF:\n",
      "               precision    recall  f1-score   support\n",
      "\n",
      "      barata       0.90      0.93      0.91       139\n",
      "        cara       0.81      0.54      0.65        24\n",
      "       media       0.84      0.87      0.85       129\n",
      "\n",
      "    accuracy                           0.87       292\n",
      "   macro avg       0.85      0.78      0.81       292\n",
      "weighted avg       0.87      0.87      0.87       292\n",
      "\n",
      "SVM Polinomial:\n",
      "               precision    recall  f1-score   support\n",
      "\n",
      "      barata       0.98      0.34      0.50       139\n",
      "        cara       0.91      0.42      0.57        24\n",
      "       media       0.55      0.98      0.70       129\n",
      "\n",
      "    accuracy                           0.63       292\n",
      "   macro avg       0.81      0.58      0.59       292\n",
      "weighted avg       0.78      0.63      0.60       292\n",
      "\n"
     ]
    }
   ],
   "source": [
    "# Importar modelo de clasificación SVM\n",
    "from sklearn.svm import SVC\n",
    "from sklearn.metrics import classification_report, confusion_matrix\n",
    "\n",
    "# Modelo SVM con kernel lineal\n",
    "svc_linear = SVC(kernel='linear', C=1)\n",
    "svc_linear.fit(X_train, y_train)\n",
    "y_pred_linear = svc_linear.predict(X_test)\n",
    "\n",
    "# Modelo SVM con kernel RBF (radial)\n",
    "svc_rbf = SVC(kernel='rbf', C=1, gamma='scale')\n",
    "svc_rbf.fit(X_train, y_train)\n",
    "y_pred_rbf = svc_rbf.predict(X_test)\n",
    "\n",
    "# Modelo SVM con kernel polinomial (grado 3)\n",
    "svc_poly = SVC(kernel='poly', degree=3, C=1)\n",
    "svc_poly.fit(X_train, y_train)\n",
    "y_pred_poly = svc_poly.predict(X_test)\n",
    "\n",
    "# Mostrar resultados\n",
    "print(\"SVM Lineal:\\n\", classification_report(y_test, y_pred_linear, target_names=label_encoder.classes_))\n",
    "print(\"SVM RBF:\\n\", classification_report(y_test, y_pred_rbf, target_names=label_encoder.classes_))\n",
    "print(\"SVM Polinomial:\\n\", classification_report(y_test, y_pred_poly, target_names=label_encoder.classes_))\n"
   ]
  },
  {
   "cell_type": "markdown",
   "id": "439697bf",
   "metadata": {},
   "source": [
    "### 4. Tuneo automático de hiperparámetros"
   ]
  },
  {
   "cell_type": "code",
   "execution_count": 5,
   "id": "e6fbf490",
   "metadata": {},
   "outputs": [
    {
     "name": "stdout",
     "output_type": "stream",
     "text": [
      "Mejores parámetros (RBF): {'C': 10, 'gamma': 'scale', 'kernel': 'rbf'}\n",
      "Mejor score (RBF): 0.8569205887312872\n",
      "Mejores parámetros (Poly): {'C': 1, 'degree': 3, 'gamma': 0.01, 'kernel': 'poly'}\n",
      "Mejor score (Poly): 0.840412028970395\n",
      "Mejores parámetros (Linear): {'C': 0.1, 'kernel': 'linear'}\n",
      "Mejor score (Linear): 0.8573363130276561\n"
     ]
    }
   ],
   "source": [
    "from sklearn.model_selection import GridSearchCV\n",
    "\n",
    "# RBF Kernel\n",
    "param_grid_rbf = {\n",
    "    'C': [0.1, 1, 10],\n",
    "    'gamma': ['scale', 0.01, 0.1, 1],\n",
    "    'kernel': ['rbf']\n",
    "}\n",
    "grid_rbf = GridSearchCV(SVC(), param_grid_rbf, cv=5, scoring='f1_weighted', n_jobs=-1)\n",
    "grid_rbf.fit(X_train, y_train)\n",
    "print(\"Mejores parámetros (RBF):\", grid_rbf.best_params_)\n",
    "print(\"Mejor score (RBF):\", grid_rbf.best_score_)\n",
    "\n",
    "# Polinomial Kernel\n",
    "param_grid_poly = {\n",
    "    'C': [0.1, 1, 10],\n",
    "    'gamma': ['scale', 0.01, 0.1],\n",
    "    'degree': [2, 3, 4],\n",
    "    'kernel': ['poly']\n",
    "}\n",
    "grid_poly = GridSearchCV(SVC(), param_grid_poly, cv=5, scoring='f1_weighted', n_jobs=-1)\n",
    "grid_poly.fit(X_train, y_train)\n",
    "print(\"Mejores parámetros (Poly):\", grid_poly.best_params_)\n",
    "print(\"Mejor score (Poly):\", grid_poly.best_score_)\n",
    "\n",
    "# Lineal Kernel\n",
    "param_grid_linear = {\n",
    "    'C': [0.1, 1, 10],\n",
    "    'kernel': ['linear']\n",
    "}\n",
    "grid_linear = GridSearchCV(SVC(), param_grid_linear, cv=5, scoring='f1_weighted', n_jobs=-1)\n",
    "grid_linear.fit(X_train, y_train)\n",
    "print(\"Mejores parámetros (Linear):\", grid_linear.best_params_)\n",
    "print(\"Mejor score (Linear):\", grid_linear.best_score_)\n"
   ]
  }
 ],
 "metadata": {
  "kernelspec": {
   "display_name": "Python 3",
   "language": "python",
   "name": "python3"
  },
  "language_info": {
   "codemirror_mode": {
    "name": "ipython",
    "version": 3
   },
   "file_extension": ".py",
   "mimetype": "text/x-python",
   "name": "python",
   "nbconvert_exporter": "python",
   "pygments_lexer": "ipython3",
   "version": "3.12.2"
  }
 },
 "nbformat": 4,
 "nbformat_minor": 5
}
