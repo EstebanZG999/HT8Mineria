{
 "cells": [
  {
   "cell_type": "markdown",
   "id": "e75357f3",
   "metadata": {},
   "source": [
    "# Máquinas Vectoriales de Soporte (SVM)"
   ]
  },
  {
   "cell_type": "markdown",
   "id": "2eeac367",
   "metadata": {},
   "source": [
    "### 2. Transformación de los datos para SVM"
   ]
  },
  {
   "cell_type": "code",
   "execution_count": null,
   "id": "c5d2e008",
   "metadata": {},
   "outputs": [],
   "source": [
    "# Importar librerías\n",
    "import pandas as pd\n",
    "from sklearn.model_selection import train_test_split\n",
    "from sklearn.preprocessing import StandardScaler, LabelEncoder\n",
    "\n",
    "# Cargar datos procesados\n",
    "df = pd.read_csv(\"../data/train_preprocessed.csv\")\n",
    "\n",
    "# Crear la variable categórica de precios\n",
    "def categorizar_precio(valor):\n",
    "    if valor < 150000:\n",
    "        return 'barata'\n",
    "    elif valor < 300000:\n",
    "        return 'media'\n",
    "    else:\n",
    "        return 'cara'\n",
    "\n",
    "df['PrecioCategoria'] = df['SalePrice'].apply(categorizar_precio)\n",
    "\n",
    "# Eliminar SalePrice para clasificación\n",
    "df_clasificacion = df.drop(columns=['SalePrice'])\n",
    "\n",
    "# Separar variables predictoras (X) y target (y)\n",
    "X = df_clasificacion.drop(columns=['PrecioCategoria'])\n",
    "y = df_clasificacion['PrecioCategoria']\n",
    "\n",
    "# Codificar variables categóricas si las hay\n",
    "X = pd.get_dummies(X)\n",
    "\n",
    "# Estandarizar características numéricas\n",
    "scaler = StandardScaler()\n",
    "X_scaled = scaler.fit_transform(X)\n",
    "\n",
    "# Codificar la variable objetivo (barata, media, cara → 0, 1, 2)\n",
    "label_encoder = LabelEncoder()\n",
    "y_encoded = label_encoder.fit_transform(y)\n",
    "\n",
    "# Dividir en entrenamiento y prueba \n",
    "X_train, X_test, y_train, y_test = train_test_split(X_scaled, y_encoded, test_size=0.2, random_state=42)\n"
   ]
  }
 ],
 "metadata": {
  "kernelspec": {
   "display_name": "Python 3",
   "language": "python",
   "name": "python3"
  },
  "language_info": {
   "codemirror_mode": {
    "name": "ipython",
    "version": 3
   },
   "file_extension": ".py",
   "mimetype": "text/x-python",
   "name": "python",
   "nbconvert_exporter": "python",
   "pygments_lexer": "ipython3",
   "version": "3.12.2"
  }
 },
 "nbformat": 4,
 "nbformat_minor": 5
}
